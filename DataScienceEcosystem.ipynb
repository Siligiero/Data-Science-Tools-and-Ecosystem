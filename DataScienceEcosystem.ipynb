{
 "cells": [
  {
   "cell_type": "code",
   "execution_count": 1,
   "id": "45afa654",
   "metadata": {},
   "outputs": [
    {
     "name": "stdout",
     "output_type": "stream",
     "text": [
      "Hello World\n"
     ]
    }
   ],
   "source": [
    "print(\"Hello World\")\n"
   ]
  },
  {
   "cell_type": "markdown",
   "id": "e8f777f7",
   "metadata": {},
   "source": [
    "# Data Science Tools and Ecosystem"
   ]
  },
  {
   "cell_type": "markdown",
   "id": "d2c4f1a7",
   "metadata": {},
   "source": [
    "### In this notebook, Data Science Tools and Ecosystem are summarized."
   ]
  },
  {
   "cell_type": "markdown",
   "id": "13d8ce1f",
   "metadata": {},
   "source": [
    "#### Some of the popular languages that Data Scientists use are:\n",
    "1. Pyton\n",
    "2. R\n",
    "3. C++\n",
    "4. Java"
   ]
  },
  {
   "cell_type": "markdown",
   "id": "09dc26f5",
   "metadata": {},
   "source": [
    "#### Some of the commonly libraries used by Data Scientist include (in R):\n",
    "1. aplyr - for manipulating data\n",
    "2. stringr - for manipulating strings\n",
    "3. ggplot - for visualization data\n",
    "4. caret - for Machine Learning"
   ]
  },
  {
   "cell_type": "markdown",
   "id": "278bc1c1",
   "metadata": {},
   "source": [
    "#### Data Science Tools\n",
    "| Open Source Tools |\n",
    "| ----------------- |\n",
    "| Jupyter Lab |\n",
    "| RStudio IDE |\n",
    "| Anaconda    |"
   ]
  },
  {
   "cell_type": "markdown",
   "id": "9b87f0df",
   "metadata": {},
   "source": [
    "### Below are a few examples of evaluating arithmetic expressions in Pyton"
   ]
  },
  {
   "cell_type": "markdown",
   "id": "58d78bec",
   "metadata": {},
   "source": [
    "#### This is a simple aritmetic expression: multiplication "
   ]
  },
  {
   "cell_type": "code",
   "execution_count": 5,
   "id": "55826632",
   "metadata": {},
   "outputs": [
    {
     "data": {
      "text/plain": [
       "17"
      ]
     },
     "execution_count": 5,
     "metadata": {},
     "output_type": "execute_result"
    }
   ],
   "source": [
    "# This is a simple arithmetic expression:multiplication operation\n",
    "(3*4)+5"
   ]
  },
  {
   "cell_type": "markdown",
   "id": "966a6d5b",
   "metadata": {},
   "source": [
    "#### Converting minutes to hours: dividing by 60"
   ]
  },
  {
   "cell_type": "code",
   "execution_count": 6,
   "id": "dce0cd1b",
   "metadata": {},
   "outputs": [
    {
     "data": {
      "text/plain": [
       "3.3333333333333335"
      ]
     },
     "execution_count": 6,
     "metadata": {},
     "output_type": "execute_result"
    }
   ],
   "source": [
    "# Converting minutes to hours\n",
    "(200/60)\n"
   ]
  },
  {
   "cell_type": "markdown",
   "id": "70fe69a6",
   "metadata": {},
   "source": [
    "**Objectives**\n",
    "- Summarize Data Science Tools end Ecosystem  \n",
    "- Most popular languages in Data Science \n",
    "- Most commonly used libraries\n",
    "- Open Source Tools\n",
    "- Simple Arithmetic Expression in Python\n"
   ]
  },
  {
   "cell_type": "markdown",
   "id": "0e6cc71d",
   "metadata": {},
   "source": [
    "## Author\n",
    "\n",
    "## Simone Ligiero"
   ]
  },
  {
   "cell_type": "code",
   "execution_count": null,
   "id": "1d5c4c2e",
   "metadata": {},
   "outputs": [],
   "source": []
  }
 ],
 "metadata": {
  "kernelspec": {
   "display_name": "Python 3 (ipykernel)",
   "language": "python",
   "name": "python3"
  },
  "language_info": {
   "codemirror_mode": {
    "name": "ipython",
    "version": 3
   },
   "file_extension": ".py",
   "mimetype": "text/x-python",
   "name": "python",
   "nbconvert_exporter": "python",
   "pygments_lexer": "ipython3",
   "version": "3.11.5"
  }
 },
 "nbformat": 4,
 "nbformat_minor": 5
}
